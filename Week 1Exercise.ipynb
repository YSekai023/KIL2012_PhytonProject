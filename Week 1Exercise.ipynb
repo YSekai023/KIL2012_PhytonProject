{
 "cells": [
  {
   "cell_type": "code",
   "execution_count": 2,
   "id": "3ae6d1d4",
   "metadata": {},
   "outputs": [
    {
     "name": "stdout",
     "output_type": "stream",
     "text": [
      "a\n",
      "No such grade in the system\n"
     ]
    }
   ],
   "source": [
    "grade=input()\n",
    "if grade == \"A\":\n",
    "    print (\"Congratulations!\")\n",
    "elif grade == \"B\":\n",
    "    print (\"Good\")\n",
    "elif grade == \"C\":\n",
    "    print (\"pass\")\n",
    "else:\n",
    "    print (\"No such grade in the system\")\n"
   ]
  },
  {
   "cell_type": "code",
   "execution_count": null,
   "id": "1276c0fd",
   "metadata": {},
   "outputs": [],
   "source": []
  },
  {
   "cell_type": "code",
   "execution_count": null,
   "id": "e176d99c",
   "metadata": {},
   "outputs": [],
   "source": []
  }
 ],
 "metadata": {
  "kernelspec": {
   "display_name": "Python 3 (ipykernel)",
   "language": "python",
   "name": "python3"
  },
  "language_info": {
   "codemirror_mode": {
    "name": "ipython",
    "version": 3
   },
   "file_extension": ".py",
   "mimetype": "text/x-python",
   "name": "python",
   "nbconvert_exporter": "python",
   "pygments_lexer": "ipython3",
   "version": "3.11.5"
  }
 },
 "nbformat": 4,
 "nbformat_minor": 5
}
