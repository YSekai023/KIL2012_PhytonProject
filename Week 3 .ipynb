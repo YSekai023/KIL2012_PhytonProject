{
 "cells": [
  {
   "cell_type": "code",
   "execution_count": 13,
   "id": "4c8bab99",
   "metadata": {},
   "outputs": [],
   "source": [
    "fruits = ['apple','orange','banana','durian','pineapple','kiwi','ciku','papaya','peach']"
   ]
  },
  {
   "cell_type": "code",
   "execution_count": 14,
   "id": "04df0e02",
   "metadata": {},
   "outputs": [
    {
     "name": "stdout",
     "output_type": "stream",
     "text": [
      "apple\n",
      "orange\n",
      "banana\n",
      "durian\n",
      "pineapple\n",
      "kiwi\n",
      "ciku\n",
      "papaya\n",
      "peach\n"
     ]
    }
   ],
   "source": [
    "for item in fruits:  #use for loop to find a given fruit name in the list\n",
    "    print (item)"
   ]
  },
  {
   "cell_type": "code",
   "execution_count": 6,
   "id": "5780f632",
   "metadata": {},
   "outputs": [
    {
     "data": {
      "text/plain": [
       "list"
      ]
     },
     "execution_count": 6,
     "metadata": {},
     "output_type": "execute_result"
    }
   ],
   "source": [
    "type(fruits)"
   ]
  },
  {
   "cell_type": "code",
   "execution_count": 7,
   "id": "3ad6f998",
   "metadata": {},
   "outputs": [
    {
     "data": {
      "text/plain": [
       "4"
      ]
     },
     "execution_count": 7,
     "metadata": {},
     "output_type": "execute_result"
    }
   ],
   "source": [
    "len(fruits)"
   ]
  },
  {
   "cell_type": "code",
   "execution_count": 8,
   "id": "51023828",
   "metadata": {},
   "outputs": [
    {
     "name": "stdout",
     "output_type": "stream",
     "text": [
      "apple 0\n",
      "orange 1\n",
      "banana 2\n",
      "durian 3\n"
     ]
    }
   ],
   "source": [
    "index = 0 \n",
    "for item in fruits:\n",
    "    print (item,index)\n",
    "    index +=1"
   ]
  },
  {
   "cell_type": "code",
   "execution_count": 19,
   "id": "1f235037",
   "metadata": {},
   "outputs": [
    {
     "name": "stdout",
     "output_type": "stream",
     "text": [
      "the item apple is in the list at index 1\n",
      "the item apple is in the list at index 1\n",
      "apple 1\n",
      "The fruit name is apple at index: 1\n",
      "orange 2\n",
      "The fruit name is orange at index: 2\n",
      "banana 3\n",
      "The fruit name is banana at index: 3\n",
      "durian 4\n",
      "The fruit name is durian at index: 4\n",
      "the item apple is in the list at index 5\n",
      "pineapple 5\n",
      "The fruit name is pineapple at index: 5\n",
      "kiwi 6\n",
      "The fruit name is kiwi at index: 6\n",
      "ciku 7\n",
      "The fruit name is ciku at index: 7\n",
      "papaya 8\n",
      "The fruit name is papaya at index: 8\n",
      "peach 9\n",
      "The fruit name is peach at index: 9\n"
     ]
    }
   ],
   "source": [
    "index_1 = 1\n",
    "for item in fruits:\n",
    "    if 'apple' == item:\n",
    "        print('the item apple is in the list at index',index_1)\n",
    "    if 'apple' in item:\n",
    "        print('the item apple is in the list at index',index_1)\n",
    "    print (item,index_1)\n",
    "    print (\"The fruit name is\",item,\"at index:\",index_1)\n",
    "    index_1 = index_1 + 1"
   ]
  },
  {
   "cell_type": "code",
   "execution_count": 20,
   "id": "69fa32a1",
   "metadata": {
    "scrolled": false
   },
   "outputs": [
    {
     "name": "stdout",
     "output_type": "stream",
     "text": [
      "0\n",
      "1\n",
      "2\n",
      "3\n",
      "4\n",
      "5\n",
      "6\n",
      "7\n",
      "8\n",
      "9\n"
     ]
    }
   ],
   "source": [
    "for x in range(10):\n",
    "    print(x)"
   ]
  },
  {
   "cell_type": "code",
   "execution_count": 21,
   "id": "3286fa54",
   "metadata": {
    "scrolled": true
   },
   "outputs": [
    {
     "name": "stdout",
     "output_type": "stream",
     "text": [
      "1\n",
      "2\n",
      "3\n",
      "4\n",
      "5\n",
      "6\n",
      "7\n",
      "8\n",
      "9\n",
      "10\n",
      "11\n",
      "12\n",
      "13\n",
      "14\n",
      "15\n",
      "16\n",
      "17\n",
      "18\n",
      "19\n",
      "20\n",
      "21\n",
      "22\n",
      "23\n",
      "24\n",
      "25\n",
      "26\n",
      "27\n",
      "28\n",
      "29\n",
      "30\n",
      "31\n",
      "32\n",
      "33\n",
      "34\n",
      "35\n",
      "36\n",
      "37\n",
      "38\n",
      "39\n",
      "40\n",
      "41\n",
      "42\n",
      "43\n",
      "44\n",
      "45\n",
      "46\n",
      "47\n",
      "48\n",
      "49\n",
      "50\n",
      "51\n",
      "52\n",
      "53\n",
      "54\n",
      "55\n",
      "56\n",
      "57\n",
      "58\n",
      "59\n",
      "60\n",
      "61\n",
      "62\n",
      "63\n",
      "64\n",
      "65\n",
      "66\n",
      "67\n",
      "68\n",
      "69\n",
      "70\n",
      "71\n",
      "72\n",
      "73\n",
      "74\n",
      "75\n",
      "76\n",
      "77\n",
      "78\n",
      "79\n",
      "80\n",
      "81\n",
      "82\n",
      "83\n",
      "84\n",
      "85\n",
      "86\n",
      "87\n",
      "88\n",
      "89\n",
      "90\n",
      "91\n",
      "92\n",
      "93\n",
      "94\n",
      "95\n",
      "96\n",
      "97\n",
      "98\n",
      "99\n",
      "100\n"
     ]
    }
   ],
   "source": [
    "for x in range(1,101):\n",
    "    print(x)"
   ]
  },
  {
   "cell_type": "code",
   "execution_count": 28,
   "id": "e5f21368",
   "metadata": {},
   "outputs": [
    {
     "name": "stdout",
     "output_type": "stream",
     "text": [
      "this is even number:  0\n",
      "this is odd number:  1\n",
      "this is even number:  2\n",
      "this is odd number:  3\n",
      "this is even number:  4\n",
      "this is odd number:  5\n",
      "this is even number:  6\n",
      "this is odd number:  7\n",
      "this is even number:  8\n"
     ]
    }
   ],
   "source": [
    "count = 0\n",
    "while (count<=10):\n",
    "    if count % 2 == 0:\n",
    "        print (\"this is even number: \",count)\n",
    "    if count % 2 != 0:\n",
    "        print (\"this is odd number: \",count) \n",
    "    if count == 8:\n",
    "        break\n",
    "    count +=1"
   ]
  },
  {
   "cell_type": "code",
   "execution_count": 30,
   "id": "ff72935f",
   "metadata": {},
   "outputs": [
    {
     "name": "stdout",
     "output_type": "stream",
     "text": [
      "0\n",
      "1\n",
      "3\n",
      "4\n"
     ]
    }
   ],
   "source": [
    "for num in range(5):\n",
    "    if num == 2:\n",
    "        continue\n",
    "    print(num)\n"
   ]
  },
  {
   "cell_type": "code",
   "execution_count": 31,
   "id": "c1bddeb2",
   "metadata": {},
   "outputs": [
    {
     "name": "stdout",
     "output_type": "stream",
     "text": [
      "0 1\n",
      "0 2\n",
      "1 1\n",
      "1 2\n",
      "2 1\n",
      "2 2\n"
     ]
    }
   ],
   "source": [
    "for i in range(3):\n",
    "    for j in range(1,3):\n",
    "        print (i,j)"
   ]
  },
  {
   "cell_type": "code",
   "execution_count": 36,
   "id": "4ade35b1",
   "metadata": {},
   "outputs": [
    {
     "name": "stdout",
     "output_type": "stream",
     "text": [
      "0 ^ 1 = 0.0\n",
      "------\n",
      "0 ^ 2 = 0.0\n",
      "------\n",
      "0 ^ 3 = 0.0\n",
      "------\n",
      "0 ^ 4 = 0.0\n",
      "------\n",
      "0 ^ 5 = 0.0\n",
      "------\n",
      "1 ^ 1 = 1.0\n",
      "------\n",
      "1 ^ 2 = 1.0\n",
      "------\n",
      "1 ^ 3 = 1.0\n",
      "------\n",
      "1 ^ 4 = 1.0\n",
      "------\n",
      "1 ^ 5 = 1.0\n",
      "------\n",
      "2 ^ 1 = 2.0\n",
      "------\n",
      "2 ^ 2 = 4.0\n",
      "------\n",
      "2 ^ 3 = 8.0\n",
      "------\n",
      "2 ^ 4 = 16.0\n",
      "------\n",
      "2 ^ 5 = 32.0\n",
      "------\n",
      "3 ^ 1 = 3.0\n",
      "------\n",
      "3 ^ 2 = 9.0\n",
      "------\n",
      "3 ^ 3 = 27.0\n",
      "------\n",
      "3 ^ 4 = 81.0\n",
      "------\n",
      "3 ^ 5 = 243.0\n",
      "------\n",
      "4 ^ 1 = 4.0\n",
      "------\n",
      "4 ^ 2 = 16.0\n",
      "------\n",
      "4 ^ 3 = 64.0\n",
      "------\n",
      "4 ^ 4 = 256.0\n",
      "------\n",
      "4 ^ 5 = 1024.0\n",
      "------\n",
      "5 ^ 1 = 5.0\n",
      "------\n",
      "5 ^ 2 = 25.0\n",
      "------\n",
      "5 ^ 3 = 125.0\n",
      "------\n",
      "5 ^ 4 = 625.0\n",
      "------\n",
      "5 ^ 5 = 3125.0\n",
      "------\n"
     ]
    }
   ],
   "source": [
    "import math\n",
    "\n",
    "for i in range(6):\n",
    "    for j in range(1,6):\n",
    "        print (i, \"^\",j,\"=\", math.pow(i,j))\n",
    "        print(\"------\")\n",
    "        "
   ]
  },
  {
   "cell_type": "code",
   "execution_count": null,
   "id": "a90c8e7b",
   "metadata": {},
   "outputs": [],
   "source": []
  }
 ],
 "metadata": {
  "kernelspec": {
   "display_name": "Python 3 (ipykernel)",
   "language": "python",
   "name": "python3"
  },
  "language_info": {
   "codemirror_mode": {
    "name": "ipython",
    "version": 3
   },
   "file_extension": ".py",
   "mimetype": "text/x-python",
   "name": "python",
   "nbconvert_exporter": "python",
   "pygments_lexer": "ipython3",
   "version": "3.11.5"
  }
 },
 "nbformat": 4,
 "nbformat_minor": 5
}
