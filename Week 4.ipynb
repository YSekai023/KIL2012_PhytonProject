{
 "cells": [
  {
   "cell_type": "code",
   "execution_count": 1,
   "id": "3a332a6f",
   "metadata": {},
   "outputs": [
    {
     "name": "stdout",
     "output_type": "stream",
     "text": [
      "The data that you input is not integer\n"
     ]
    }
   ],
   "source": [
    "try:\n",
    "   x = \"2\"+2\n",
    "except:\n",
    "  # Code that runs if the exception occurs\n",
    "    print(\"The data that you input is not integer\")"
   ]
  },
  {
   "cell_type": "code",
   "execution_count": 2,
   "id": "12614e0a",
   "metadata": {},
   "outputs": [
    {
     "name": "stdout",
     "output_type": "stream",
     "text": [
      "Please enter a valid number: test\n",
      "The data that you input is not a number\n"
     ]
    }
   ],
   "source": [
    "try:\n",
    "    number= int(input(\"Please enter a valid number: \"))\n",
    "except:\n",
    "  # Code that runs if the exception occurs\n",
    "    print(\"The data that you input is not a number\")"
   ]
  },
  {
   "cell_type": "code",
   "execution_count": 5,
   "id": "dc9466dd",
   "metadata": {},
   "outputs": [
    {
     "name": "stdout",
     "output_type": "stream",
     "text": [
      "the value exist in the list\n"
     ]
    }
   ],
   "source": [
    "my_list= [1,2,3]\n",
    "try:\n",
    "   my_list[2]\n",
    "   print(\"the value exist in the list\")\n",
    "except:\n",
    "    print(\"the value does not exist in the list\")"
   ]
  },
  {
   "cell_type": "code",
   "execution_count": 6,
   "id": "8b8e02ac",
   "metadata": {},
   "outputs": [
    {
     "name": "stdout",
     "output_type": "stream",
     "text": [
      "enter a number:\n",
      "that is not a number!\n",
      "this is executed no matter what\n"
     ]
    }
   ],
   "source": [
    "try:\n",
    "    number= int(input('enter a number:'))\n",
    "except ValueError:\n",
    "    print(\"that is not a number!\")\n",
    "else:\n",
    "    print(\"that is not a number!\")\n",
    "finally:\n",
    "    print(\"this is executed no matter what\") "
   ]
  },
  {
   "cell_type": "code",
   "execution_count": 7,
   "id": "f9b0811e",
   "metadata": {},
   "outputs": [
    {
     "name": "stdout",
     "output_type": "stream",
     "text": [
      "Enter a number: 5\n",
      "0.2\n"
     ]
    }
   ],
   "source": [
    "try:\n",
    "    user_input = input(\"Enter a number: \")\n",
    "    result = 1 / int(user_input)\n",
    "    print(result)\n",
    "except ValueError:\n",
    "    print(\"Please enter a valid integer.\")\n",
    "except ZeroDivisionError:\n",
    "    print(\"Division by zero is not allowed.\")"
   ]
  },
  {
   "cell_type": "code",
   "execution_count": null,
   "id": "077ba4aa",
   "metadata": {},
   "outputs": [],
   "source": []
  }
 ],
 "metadata": {
  "kernelspec": {
   "display_name": "Python 3 (ipykernel)",
   "language": "python",
   "name": "python3"
  },
  "language_info": {
   "codemirror_mode": {
    "name": "ipython",
    "version": 3
   },
   "file_extension": ".py",
   "mimetype": "text/x-python",
   "name": "python",
   "nbconvert_exporter": "python",
   "pygments_lexer": "ipython3",
   "version": "3.11.5"
  }
 },
 "nbformat": 4,
 "nbformat_minor": 5
}
