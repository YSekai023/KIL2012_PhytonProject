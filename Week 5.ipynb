{
 "cells": [
  {
   "cell_type": "code",
   "execution_count": 1,
   "id": "52b9994d",
   "metadata": {},
   "outputs": [
    {
     "name": "stdout",
     "output_type": "stream",
     "text": [
      "Alice is enrolled in Mathematics class.\n"
     ]
    }
   ],
   "source": [
    "def student_information(class_name, student_name):\n",
    "    # Display information about a student and their class.\n",
    "    print(student_name + \" is enrolled in \" + class_name + \" class.\")\n",
    "# Positional arguments:\n",
    "student_information('Mathematics', 'Alice')\n"
   ]
  },
  {
   "cell_type": "code",
   "execution_count": 7,
   "id": "1526411c",
   "metadata": {},
   "outputs": [
    {
     "name": "stdout",
     "output_type": "stream",
     "text": [
      "Alice is enrolled in Mathematics class.\n"
     ]
    }
   ],
   "source": [
    "def student_information(class_name, student_name):\n",
    "    # Display information about a student and their class.\n",
    "    print(student_name + \" is enrolled in \" + class_name + \" class.\")\n",
    "# Keyword arguments:\n",
    "student_information(class_name='Mathematics', student_name='Alice')"
   ]
  },
  {
   "cell_type": "code",
   "execution_count": 10,
   "id": "fd86fcbb",
   "metadata": {},
   "outputs": [
    {
     "name": "stdout",
     "output_type": "stream",
     "text": [
      "Student Name: Lina\n",
      "Enrolled Course: Introduction to Python\n",
      "Student Name: Sara\n",
      "Enrolled Course: Data Structures\n"
     ]
    }
   ],
   "source": [
    "def enroll_student(student_name, course='Introduction to Python'): \n",
    "    # Enroll a student in a course with a default option.\n",
    "    print(\"Student Name: \" + student_name)\n",
    "    print(\"Enrolled Course: \" + course)\n",
    "    \n",
    "# Using the default argument for course:\n",
    "enroll_student(student_name='Lina')\n",
    "\n",
    "# Overriding the default argument for course:\n",
    "enroll_student(student_name='Sara', course='Data Structures')\n",
    "\n"
   ]
  },
  {
   "cell_type": "code",
   "execution_count": 15,
   "id": "b5ed4986",
   "metadata": {},
   "outputs": [
    {
     "name": "stdout",
     "output_type": "stream",
     "text": [
      "Student: Emily\n",
      "Enrolled in:\n",
      "- Biology 101\n",
      "- Chemistry 101\n",
      "- Physics 101\n"
     ]
    }
   ],
   "source": [
    "def enroll_in_courses(student_name, *courses):\n",
    "    # Enroll a student in multiple courses.\n",
    "    print(\"Student: \" + student_name)\n",
    "    print(\"Enrolled in:\")\n",
    "    for course in courses:\n",
    "        print(\"- \" + course)\n",
    "# Example of enrolling a student in three different courses:\n",
    "enroll_in_courses('Emily', 'Biology 101', 'Chemistry 101', 'Physics 101' )"
   ]
  },
  {
   "cell_type": "code",
   "execution_count": 16,
   "id": "8792e94c",
   "metadata": {},
   "outputs": [
    {
     "name": "stdout",
     "output_type": "stream",
     "text": [
      "Enrolling Smith with the following details:\n",
      "- Course: Algebra II\n",
      "- Semester: One\n",
      "- Payment Method: Credit Card\n"
     ]
    }
   ],
   "source": [
    "def enroll_student(student_name, **details):\n",
    "     # Enroll a student with additional details.\n",
    "    print(\"Enrolling \" + student_name + \" with the following details:\")\n",
    "    for detail, value in details.items():\n",
    "        print(\"- \" + detail.replace('_', ' ').title() + \": \" + str(value))\n",
    "# Example of enrolling a student with additional details:\n",
    "enroll_student('Smith', course='Algebra II', semester='One', payment_method='Credit Card')\n"
   ]
  },
  {
   "cell_type": "code",
   "execution_count": 9,
   "id": "eba0cd5f",
   "metadata": {},
   "outputs": [
    {
     "name": "stdout",
     "output_type": "stream",
     "text": [
      "Enrolling Smith with the following details:\n",
      "- course : Algebra II\n",
      "- semester : One\n",
      "- payment_method : Credit Card\n"
     ]
    }
   ],
   "source": [
    "def enroll_student(student_name, **details):\n",
    "     # Enroll a student with additional details.\n",
    "    print(\"Enrolling \" + student_name + \" with the following details:\")\n",
    "    for key, value in details.items():\n",
    "        print(\"- \" + key + \" : \" + str(value))\n",
    "# Example of enrolling a student with additional details:\n",
    "enroll_student('Smith', course='Algebra II', semester='One', payment_method='Credit Card')"
   ]
  },
  {
   "cell_type": "code",
   "execution_count": 35,
   "id": "0237de0f",
   "metadata": {},
   "outputs": [
    {
     "name": "stdout",
     "output_type": "stream",
     "text": [
      "Checkout Processed by: Sarah Connor\n",
      "\n",
      "Books Checked Out:\n",
      "- 1984\n",
      "- Brave New World\n",
      "\n",
      "Checkout Duration: 3 weeks\n",
      "\n",
      "Additional Checkout Details:\n",
      "- Late Fee: $0.25\n",
      "- Renewals Allowed: 2\n",
      "\n",
      "Special Conditions for Checkout:\n",
      "- Handle with care\n"
     ]
    }
   ],
   "source": [
    "def checkout_books(librarian_name, *book_titles, duration='2 weeks', **add_info):\n",
    "    print(\"Checkout Processed by: \"+librarian_name)\n",
    "    print(\"\\nBooks Checked Out:\")\n",
    "    for book in book_titles:\n",
    "        print(\"- \"+book)\n",
    "    print(\"\\nCheckout Duration: \"+duration)\n",
    "\n",
    "    if add_info:\n",
    "        print(\"\\nAdditional Checkout Details:\") \n",
    "        for key, value in add_info.items():\n",
    "            if key != \"special_conditions\":\n",
    "                print(f\"- {key.title().replace('_', ' ')}: {str(value)}\")\n",
    "            else:\n",
    "                continue \n",
    "                \n",
    "    special_conditions = add_info.get('special_conditions')\n",
    "    if special_conditions:\n",
    "        print(\"\\nSpecial Conditions for Checkout:\")\n",
    "        print(f\"- {special_conditions}\")\n",
    "\n",
    "# Example usage:\n",
    "checkout_books('Sarah Connor', '1984', 'Brave New World', duration='3 weeks', late_fee='$0.25', renewals_allowed='2', special_conditions='Handle with care')"
   ]
  },
  {
   "cell_type": "code",
   "execution_count": 75,
   "id": "5883f3e2",
   "metadata": {},
   "outputs": [
    {
     "name": "stdout",
     "output_type": "stream",
     "text": [
      "\n",
      "Checkout Processed by: Sarah Connor\n",
      "\n",
      "Books Checked Out:\n",
      "<class 'tuple'>\n",
      "- 1984\n",
      "- Brave New World\n",
      "\n",
      "Checkout Duration: 3 weeks\n",
      "\n",
      "Additional Checkout Details:\n",
      "- Late Fee: $0.25\n",
      "- Renewals Allowed: 2\n",
      "\n",
      "Special Conditions For Checkout:\n",
      "- Handle with care\n"
     ]
    }
   ],
   "source": [
    "def checkout_books(librarian_name, *book_titles, duration='2 weeks', **kwargs):\n",
    "    print(\"\\nCheckout Processed by: \"+librarian_name)\n",
    "    print(\"\\nBooks Checked Out:\")\n",
    "    print(type(book_titles))\n",
    "    for book in book_titles:\n",
    "        print(\"- \"+book)\n",
    "    print(\"\\nCheckout Duration: \"+duration)\n",
    "    \n",
    "    for key, value in kwargs.items():\n",
    "        print()\n",
    "        print(key.title().replace('_', ' ')+\":\")\n",
    "        for detail in value:\n",
    "            print(\"- \"+detail)\n",
    "\n",
    "# Example usage:\n",
    "checkout_books('Sarah Connor', '1984', 'Brave New World', duration='3 weeks', additional_checkout_details = {\"Late Fee: $0.25\",\"Renewals Allowed: 2\"},special_conditions_for_checkout = {\"Handle with care\"})"
   ]
  },
  {
   "cell_type": "code",
   "execution_count": 73,
   "id": "eb156285",
   "metadata": {},
   "outputs": [
    {
     "name": "stdout",
     "output_type": "stream",
     "text": [
      "Enter the name of librarian: rgrg\n",
      "Enter book title 1: rgrg\n",
      "Continue? (yes/no): yes\n",
      "Enter book title 2: efe\n",
      "Continue? (yes/no): no\n",
      "Enter the duration(in weeks): 3\n",
      "Enter title for additional detail 1: efef\n",
      "Enter answer for additional detail 1 (in the form of {Detail: Answer}): wddww : efef\n",
      "Continue? (yes/no): yes\n",
      "Enter title for additional detail 2: efefe: efe\n",
      "Enter answer for additional detail 2 (in the form of {Detail: Answer}): wdwdwd : wdwd\n",
      "Continue? (yes/no): no\n",
      "\n",
      "Checkout Processed by: rgrg\n",
      "\n",
      "Books Checked Out:\n",
      "- rgrg\n",
      "- efe\n",
      "\n",
      "Checkout Duration: 2 weeks\n",
      "\n",
      "Efef:\n",
      "- w\n",
      "- d\n",
      "- d\n",
      "- w\n",
      "- w\n",
      "-  \n",
      "- :\n",
      "-  \n",
      "- e\n",
      "- f\n",
      "- e\n",
      "- f\n",
      "\n",
      "Efefe: Efe:\n",
      "- w\n",
      "- d\n",
      "- w\n",
      "- d\n",
      "- w\n",
      "- d\n",
      "-  \n",
      "- :\n",
      "-  \n",
      "- w\n",
      "- d\n",
      "- w\n",
      "- d\n"
     ]
    }
   ],
   "source": [
    "def checkout_books(librarian_name, *book_titles, duration='2 weeks',**add_details): \n",
    "    print(\"\\nCheckout Processed by: \"+librarian_name) \n",
    "    print(\"\\nBooks Checked Out:\") \n",
    "    for book in book_titles:\n",
    "        print(\"- \"+book)\n",
    "    print(\"\\nCheckout Duration: \"+duration)\n",
    "\n",
    "    for key, value in add_details.items():\n",
    "        print()\n",
    "        print(key.title().replace('_', ' ')+\":\")\n",
    "        for detail in value:\n",
    "            print(\"- \"+detail)\n",
    "\n",
    "            \n",
    "# Example usage:\n",
    "librarian_name = input(\"Enter the name of librarian: \")\n",
    "\n",
    "x=\"yes\"\n",
    "book_titles=[]\n",
    "for count in range(1,10):\n",
    "        k = input(\"Enter book title \"+str(count)+\": \")\n",
    "        book_titles.append(k)\n",
    "        x = input(\"Continue? (yes/no): \")\n",
    "        if x == \"yes\":\n",
    "            continue\n",
    "        else:\n",
    "            break\n",
    "book_titles=tuple(book_titles)\n",
    "\n",
    "duration = input(\"Enter the duration(in weeks): \")\n",
    "\n",
    "y=\"yes\"\n",
    "add_details = {}\n",
    "for i in range(1,10):\n",
    "    title = input(\"Enter title for additional detail \"+str(i)+\": \")\n",
    "    answer = input(\"Enter answer for additional detail \"+str(i)+\" (in the form of {Detail: Answer}): \")\n",
    "    add_details[title] = str(answer)\n",
    "    y = input(\"Continue? (yes/no): \")\n",
    "    if y == \"yes\":\n",
    "        continue\n",
    "    else:\n",
    "        break\n",
    "            \n",
    "checkout_books(librarian_name,*book_titles, duration='2 weeks',**add_details)"
   ]
  },
  {
   "cell_type": "code",
   "execution_count": null,
   "id": "0249b4ec",
   "metadata": {},
   "outputs": [],
   "source": []
  }
 ],
 "metadata": {
  "kernelspec": {
   "display_name": "Python 3 (ipykernel)",
   "language": "python",
   "name": "python3"
  },
  "language_info": {
   "codemirror_mode": {
    "name": "ipython",
    "version": 3
   },
   "file_extension": ".py",
   "mimetype": "text/x-python",
   "name": "python",
   "nbconvert_exporter": "python",
   "pygments_lexer": "ipython3",
   "version": "3.11.5"
  }
 },
 "nbformat": 4,
 "nbformat_minor": 5
}
