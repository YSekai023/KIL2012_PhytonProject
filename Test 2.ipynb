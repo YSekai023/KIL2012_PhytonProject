{
 "cells": [
  {
   "cell_type": "code",
   "execution_count": 39,
   "id": "f21cced3",
   "metadata": {},
   "outputs": [
    {
     "data": {
      "text/plain": [
       "<function matplotlib.pyplot.show(close=None, block=None)>"
      ]
     },
     "execution_count": 39,
     "metadata": {},
     "output_type": "execute_result"
    },
    {
     "data": {
      "image/png": "[encoded data removed]",
      "text/plain": [
       "<Figure size 640x480 with 1 Axes>"
      ]
     },
     "metadata": {},
     "output_type": "display_data"
    }
   ],
   "source": [
    "#import all rthe libraries\n",
    "import numpy as np\n",
    "import scipy as sc\n",
    "from scipy.integrate import odeint\n",
    "import matplotlib.pyplot as plt\n",
    "\n",
    "#define the ode equation\n",
    "def dydt(y,t):\n",
    "    return (-2*y*t)\n",
    "\n",
    "#create x-axis value\n",
    "t=np.linspace(0,2,10)\n",
    "\n",
    "#solve the ODE\n",
    "y0=1\n",
    "y=odeint(dydt,y0,t)\n",
    "\n",
    "#plot the graph\n",
    "plt.figure()\n",
    "plt.plot(t,y,'b',label='dy/dt')\n",
    "plt.title(\"y(t) vs t\")\n",
    "plt.xlabel(\"t\")\n",
    "plt.ylabel(\"y\")\n",
    "plt.show\n"
   ]
  },
  {
   "cell_type": "code",
   "execution_count": 16,
   "id": "00ff09e4",
   "metadata": {},
   "outputs": [
    {
     "name": "stdout",
     "output_type": "stream",
     "text": [
      "[[ 1.25]\n",
      " [-1.  ]\n",
      " [ 3.25]]\n"
     ]
    }
   ],
   "source": [
    "#define matrix A\n",
    "A = np.array([[2, 4, 6], [5, 3, 3], [7, 8, 9]])\n",
    "\n",
    "#define matrix B\n",
    "B = np.array([[18], [13], [30]])\n",
    "\n",
    "#solve matrix X\n",
    "X = sc.linalg.solve (A,B)\n",
    "print (X)"
   ]
  },
  {
   "cell_type": "code",
   "execution_count": 41,
   "id": "3a04a8eb",
   "metadata": {
    "scrolled": true
   },
   "outputs": [
    {
     "name": "stdout",
     "output_type": "stream",
     "text": [
      "Enter the number of days: 16\n",
      "{'latitude': 2.375, 'longitude': 112.5, 'generationtime_ms': 0.030994415283203125, 'utc_offset_seconds': 28800, 'timezone': 'Asia/Singapore', 'timezone_abbreviation': '+08', 'elevation': 272.0, 'hourly_units': {'time': 'iso8601', 'temperature_2m': '°C'}, 'hourly': {'time': ['2024-01-11T00:00', '2024-01-11T01:00', '2024-01-11T02:00', '2024-01-11T03:00', '2024-01-11T04:00', '2024-01-11T05:00', '2024-01-11T06:00', '2024-01-11T07:00', '2024-01-11T08:00', '2024-01-11T09:00', '2024-01-11T10:00', '2024-01-11T11:00', '2024-01-11T12:00', '2024-01-11T13:00', '2024-01-11T14:00', '2024-01-11T15:00', '2024-01-11T16:00', '2024-01-11T17:00', '2024-01-11T18:00', '2024-01-11T19:00', '2024-01-11T20:00', '2024-01-11T21:00', '2024-01-11T22:00', '2024-01-11T23:00'], 'temperature_2m': [23.8, 23.5, 23.3, 23.2, 23.1, 23.1, 23.0, 23.0, 24.0, 25.5, 26.6, 27.4, 28.0, 28.1, 28.1, 28.0, 27.6, 26.7, 25.9, 25.2, 24.9, 24.6, 24.3, 24.1]}}\n",
      "latitude\n"
     ]
    },
    {
     "ename": "TypeError",
     "evalue": "'float' object is not iterable",
     "output_type": "error",
     "traceback": [
      "\u001b[1;31m---------------------------------------------------------------------------\u001b[0m",
      "\u001b[1;31mTypeError\u001b[0m                                 Traceback (most recent call last)",
      "Cell \u001b[1;32mIn[41], line 12\u001b[0m\n\u001b[0;32m     10\u001b[0m \u001b[38;5;28;01mfor\u001b[39;00m key, value \u001b[38;5;129;01min\u001b[39;00m data\u001b[38;5;241m.\u001b[39mitems():\n\u001b[0;32m     11\u001b[0m     \u001b[38;5;28mprint\u001b[39m (key)\n\u001b[1;32m---> 12\u001b[0m     x\u001b[38;5;241m=\u001b[39m \u001b[38;5;28mlist\u001b[39m(value)\n\u001b[0;32m     13\u001b[0m     \u001b[38;5;28mprint\u001b[39m (x)\n",
      "\u001b[1;31mTypeError\u001b[0m: 'float' object is not iterable"
     ]
    }
   ],
   "source": [
    "import requests\n",
    "api_url= \"https://api.open-meteo.com/v1/forecast?latitude=2.5&longitude=112.5&hourly=temperature_2m&timezone=Asia%2FSingapore&forecast_days=1\"\n",
    "response = requests.get(api_url)\n",
    "data = response.json()\n",
    "\n",
    "day_number = input(\"Enter the number of days: \")\n",
    "\n",
    "print (data)\n",
    "\n",
    "for key, value in data.items():\n",
    "    print (key)\n",
    "    print (x)\n",
    "\n",
    "\n",
    "\n"
   ]
  },
  {
   "cell_type": "code",
   "execution_count": null,
   "id": "57e3ddaf",
   "metadata": {},
   "outputs": [],
   "source": []
  }
 ],
 "metadata": {
  "kernelspec": {
   "display_name": "Python 3 (ipykernel)",
   "language": "python",
   "name": "python3"
  },
  "language_info": {
   "codemirror_mode": {
    "name": "ipython",
    "version": 3
   },
   "file_extension": ".py",
   "mimetype": "text/x-python",
   "name": "python",
   "nbconvert_exporter": "python",
   "pygments_lexer": "ipython3",
   "version": "3.11.5"
  }
 },
 "nbformat": 4,
 "nbformat_minor": 5
}
