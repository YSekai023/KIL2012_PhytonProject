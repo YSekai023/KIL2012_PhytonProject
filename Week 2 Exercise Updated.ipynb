{
 "cells": [
  {
   "cell_type": "code",
   "execution_count": 1,
   "id": "3e2d5ce5",
   "metadata": {},
   "outputs": [
    {
     "name": "stdout",
     "output_type": "stream",
     "text": [
      "Please enter the name of the subjectEnglish\n",
      "the subject is available\n"
     ]
    }
   ],
   "source": [
    "subjects= [\"software\", \"Chemistry\",\"English\",\"Arabic\"]\n",
    "\n",
    "def subject_availability(subject_name):\n",
    "    if(is_available(subject_name)):\n",
    "        return \"the subject is available\"\n",
    "    else:\n",
    "        return \"the subject is not available\"\n",
    "    \n",
    "def is_available(subject_name):\n",
    "    return subject_name in subjects\n",
    "\n",
    "input_subject = input(\"Please enter the name of the subject\")\n",
    "\n",
    "print(subject_availability(input_subject))"
   ]
  },
  {
   "cell_type": "code",
   "execution_count": 2,
   "id": "dc634bbf",
   "metadata": {},
   "outputs": [
    {
     "name": "stdout",
     "output_type": "stream",
     "text": [
      "30\n",
      "10\n",
      "200\n",
      "2.0\n"
     ]
    }
   ],
   "source": [
    "def sum (a,b):\n",
    "    # a function that adds two parameters\n",
    "    return a+b\n",
    "\n",
    "def sub (a,b):\n",
    "    # a function that substracts two parameters\n",
    "    return a-b\n",
    "\n",
    "def mult (a,b):\n",
    "    # a function that multiples two parameters\n",
    "    return a*b\n",
    "\n",
    "def divi (a,b):\n",
    "    # a function that divids two parameters\n",
    "    return a/b\n",
    "\n",
    "print(sum(20,10))\n",
    "print (sub(20,10))\n",
    "print (mult(20,10))\n",
    "print (divi(20,10))"
   ]
  },
  {
   "cell_type": "code",
   "execution_count": 3,
   "id": "549d78b3",
   "metadata": {},
   "outputs": [
    {
     "name": "stdout",
     "output_type": "stream",
     "text": [
      "20\n"
     ]
    }
   ],
   "source": [
    "x=10\n",
    "y=20\n",
    "\n",
    "z=x+y-x\n",
    "print (z)"
   ]
  },
  {
   "cell_type": "code",
   "execution_count": 1,
   "id": "7e14cf35",
   "metadata": {},
   "outputs": [
    {
     "name": "stdout",
     "output_type": "stream",
     "text": [
      "Boss is handsome\n"
     ]
    }
   ],
   "source": [
    "x=\"hand\"\n",
    "y=20\n",
    "\n",
    "if isinstance(x,str):\n",
    "    print(\"Boss is handsome\")\n",
    "else:\n",
    "    print(\"bye\")\n"
   ]
  },
  {
   "cell_type": "code",
   "execution_count": 8,
   "id": "9d635a3e",
   "metadata": {},
   "outputs": [
    {
     "name": "stdout",
     "output_type": "stream",
     "text": [
      "dict_values(['sara', 22])\n"
     ]
    }
   ],
   "source": [
    "Student= {\n",
    "    \"name\": \"sara\",\"age\": 22\n",
    "}\n",
    "print(Student.values())\n"
   ]
  },
  {
   "cell_type": "code",
   "execution_count": 3,
   "id": "9c79897c",
   "metadata": {},
   "outputs": [
    {
     "name": "stdout",
     "output_type": "stream",
     "text": [
      "30\n"
     ]
    }
   ],
   "source": [
    "def add (a,b):\n",
    "    z = a+b\n",
    "    print(z)\n",
    "\n",
    "add(10,20)"
   ]
  },
  {
   "cell_type": "code",
   "execution_count": null,
   "id": "82db1c11",
   "metadata": {},
   "outputs": [],
   "source": []
  }
 ],
 "metadata": {
  "kernelspec": {
   "display_name": "Python 3 (ipykernel)",
   "language": "python",
   "name": "python3"
  },
  "language_info": {
   "codemirror_mode": {
    "name": "ipython",
    "version": 3
   },
   "file_extension": ".py",
   "mimetype": "text/x-python",
   "name": "python",
   "nbconvert_exporter": "python",
   "pygments_lexer": "ipython3",
   "version": "3.11.5"
  }
 },
 "nbformat": 4,
 "nbformat_minor": 5
}
